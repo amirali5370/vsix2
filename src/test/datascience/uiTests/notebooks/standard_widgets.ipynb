{
    "cells": [
        {
            "cell_type": "code",
            "execution_count": 1,
            "metadata": {
                "collapsed": true
            },
            "outputs": [],
            "source": [
                "import ipywidgets as widgets"
            ]
        },
        {
            "cell_type": "code",
            "execution_count": 3,
            "metadata": {
                "scrolled": true
            },
            "outputs": [],
            "source": [
                "widgets.IntSlider()"
            ]
        },
        {
            "cell_type": "code",
            "execution_count": null,
            "metadata": {},
            "outputs": [],
            "source": []
        },
        {
            "cell_type": "code",
            "execution_count": 7,
            "metadata": {},
            "outputs": [
                {
                    "data": {
                        "application/vnd.jupyter.widget-view+json": {
                            "model_id": "1c9b5fe35ba94c1fb3d0420de0e8ccd1",
                            "version_major": 2,
                            "version_minor": 0
                        },
                        "text/plain": [
                            "Text(value='Hello World!', disabled=True)"
                        ]
                    },
                    "metadata": {},
                    "output_type": "display_data"
                }
            ],
            "source": [
                "widgets.Text(value='Hello World!', disabled=True)"
            ]
        },
        {
            "cell_type": "code",
            "execution_count": 8,
            "metadata": {},
            "outputs": [
                {
                    "data": {
                        "application/vnd.jupyter.widget-view+json": {
                            "model_id": "6ee29012e37d47b1b1052d2b0b4cf2be",
                            "version_major": 2,
                            "version_minor": 0
                        },
                        "text/plain": [
                            "VBox(children=(IntSlider(value=0, continuous_update=False, description='Delayed'), IntText(value=0, descriptio…"
                        ]
                    },
                    "metadata": {},
                    "output_type": "display_data"
                }
            ],
            "source": [
                "\n",
                "a = widgets.IntSlider(description=\"Delayed\", continuous_update=False)\n",
                "b = widgets.IntText(description=\"Delayed\", continuous_update=False)\n",
                "c = widgets.IntSlider(description=\"Continuous\", continuous_update=True)\n",
                "d = widgets.IntText(description=\"Continuous\", continuous_update=True)\n",
                "\n",
                "widgets.link((a, 'value'), (b, 'value'))\n",
                "widgets.link((a, 'value'), (c, 'value'))\n",
                "widgets.link((a, 'value'), (d, 'value'))\n",
                "widgets.VBox([a,b,c,d])"
            ]
        },
        {
            "cell_type": "code",
            "execution_count": 9,
            "metadata": {},
            "outputs": [
                {
                    "data": {
                        "application/vnd.jupyter.widget-view+json": {
                            "model_id": "cd88514f51cb4fa3a434fb98ef3ec9c5",
                            "version_major": 2,
                            "version_minor": 0
                        },
                        "text/plain": [
                            "Label(value='The values of range1 and range2 are synchronized')"
                        ]
                    },
                    "metadata": {},
                    "output_type": "display_data"
                },
                {
                    "data": {
                        "application/vnd.jupyter.widget-view+json": {
                            "model_id": "2aab3955f40f44ca932a91827b02b6d7",
                            "version_major": 2,
                            "version_minor": 0
                        },
                        "text/plain": [
                            "IntSlider(value=1, description='Slider', max=5, min=-5)"
                        ]
                    },
                    "metadata": {},
                    "output_type": "display_data"
                }
            ],
            "source": [
                "caption = widgets.Label(value='The values of range1 and range2 are synchronized')\n",
                "slider = widgets.IntSlider(min=-5, max=5, value=1, description='Slider')\n",
                "\n",
                "def handle_slider_change(change):\n",
                "    caption.value = 'The slider value is ' + (\n",
                "        'negative' if change.new < 0 else 'nonnegative'\n",
                "    )\n",
                "\n",
                "slider.observe(handle_slider_change, names='value')\n",
                "\n",
                "display(caption, slider)"
            ]
        },
        {
            "cell_type": "code",
            "execution_count": 10,
            "metadata": {},
            "outputs": [
                {
                    "data": {
                        "application/vnd.jupyter.widget-view+json": {
                            "model_id": "1f80a712cdc14effb5fee3f101f36473",
                            "version_major": 2,
                            "version_minor": 0
                        },
                        "text/plain": [
                            "IntSlider(value=0, description='Continuous')"
                        ]
                    },
                    "metadata": {},
                    "output_type": "display_data"
                }
            ],
            "source": [
                "c"
            ]
        },
        {
            "cell_type": "code",
            "execution_count": null,
            "metadata": {},
            "outputs": [],
            "source": []
        },
        {
            "cell_type": "code",
            "execution_count": null,
            "metadata": {},
            "outputs": [],
            "source": []
        }
    ],
    "metadata": {
        "file_extension": ".py",
        "language_info": {
            "codemirror_mode": {
                "name": "ipython",
                "version": 3
            },
            "file_extension": ".py",
            "mimetype": "text/x-python",
            "name": "python",
            "nbconvert_exporter": "python",
            "pygments_lexer": "ipython3",
            "version": "3.7.6-final"
        },
        "mimetype": "text/x-python",
        "name": "python",
        "npconvert_exporter": "python",
        "pygments_lexer": "ipython3",
        "version": 3
    },
    "nbformat": 4,
    "nbformat_minor": 2
}
